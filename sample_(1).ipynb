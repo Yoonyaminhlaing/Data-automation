{
  "nbformat": 4,
  "nbformat_minor": 5,
  "metadata": {
    "colab": {
      "name": "sample (1).ipynb",
      "provenance": [],
      "collapsed_sections": [],
      "include_colab_link": true
    },
    "kernelspec": {
      "display_name": "Python 3",
      "language": "python",
      "name": "python3"
    },
    "language_info": {
      "codemirror_mode": {
        "name": "ipython",
        "version": 3
      },
      "file_extension": ".py",
      "mimetype": "text/x-python",
      "name": "python",
      "nbconvert_exporter": "python",
      "pygments_lexer": "ipython3",
      "version": "3.9.5"
    }
  },
  "cells": [
    {
      "cell_type": "markdown",
      "metadata": {
        "id": "view-in-github",
        "colab_type": "text"
      },
      "source": [
        "<a href=\"https://colab.research.google.com/github/Yoonyaminhlaing/Data-automation/blob/main/sample_(1).ipynb\" target=\"_parent\"><img src=\"https://colab.research.google.com/assets/colab-badge.svg\" alt=\"Open In Colab\"/></a>"
      ]
    },
    {
      "cell_type": "code",
      "metadata": {
        "colab": {
          "resources": {
            "http://localhost:8080/nbextensions/google.colab/files.js": {
              "data": "Ly8gQ29weXJpZ2h0IDIwMTcgR29vZ2xlIExMQwovLwovLyBMaWNlbnNlZCB1bmRlciB0aGUgQXBhY2hlIExpY2Vuc2UsIFZlcnNpb24gMi4wICh0aGUgIkxpY2Vuc2UiKTsKLy8geW91IG1heSBub3QgdXNlIHRoaXMgZmlsZSBleGNlcHQgaW4gY29tcGxpYW5jZSB3aXRoIHRoZSBMaWNlbnNlLgovLyBZb3UgbWF5IG9idGFpbiBhIGNvcHkgb2YgdGhlIExpY2Vuc2UgYXQKLy8KLy8gICAgICBodHRwOi8vd3d3LmFwYWNoZS5vcmcvbGljZW5zZXMvTElDRU5TRS0yLjAKLy8KLy8gVW5sZXNzIHJlcXVpcmVkIGJ5IGFwcGxpY2FibGUgbGF3IG9yIGFncmVlZCB0byBpbiB3cml0aW5nLCBzb2Z0d2FyZQovLyBkaXN0cmlidXRlZCB1bmRlciB0aGUgTGljZW5zZSBpcyBkaXN0cmlidXRlZCBvbiBhbiAiQVMgSVMiIEJBU0lTLAovLyBXSVRIT1VUIFdBUlJBTlRJRVMgT1IgQ09ORElUSU9OUyBPRiBBTlkgS0lORCwgZWl0aGVyIGV4cHJlc3Mgb3IgaW1wbGllZC4KLy8gU2VlIHRoZSBMaWNlbnNlIGZvciB0aGUgc3BlY2lmaWMgbGFuZ3VhZ2UgZ292ZXJuaW5nIHBlcm1pc3Npb25zIGFuZAovLyBsaW1pdGF0aW9ucyB1bmRlciB0aGUgTGljZW5zZS4KCi8qKgogKiBAZmlsZW92ZXJ2aWV3IEhlbHBlcnMgZm9yIGdvb2dsZS5jb2xhYiBQeXRob24gbW9kdWxlLgogKi8KKGZ1bmN0aW9uKHNjb3BlKSB7CmZ1bmN0aW9uIHNwYW4odGV4dCwgc3R5bGVBdHRyaWJ1dGVzID0ge30pIHsKICBjb25zdCBlbGVtZW50ID0gZG9jdW1lbnQuY3JlYXRlRWxlbWVudCgnc3BhbicpOwogIGVsZW1lbnQudGV4dENvbnRlbnQgPSB0ZXh0OwogIGZvciAoY29uc3Qga2V5IG9mIE9iamVjdC5rZXlzKHN0eWxlQXR0cmlidXRlcykpIHsKICAgIGVsZW1lbnQuc3R5bGVba2V5XSA9IHN0eWxlQXR0cmlidXRlc1trZXldOwogIH0KICByZXR1cm4gZWxlbWVudDsKfQoKLy8gTWF4IG51bWJlciBvZiBieXRlcyB3aGljaCB3aWxsIGJlIHVwbG9hZGVkIGF0IGEgdGltZS4KY29uc3QgTUFYX1BBWUxPQURfU0laRSA9IDEwMCAqIDEwMjQ7CgpmdW5jdGlvbiBfdXBsb2FkRmlsZXMoaW5wdXRJZCwgb3V0cHV0SWQpIHsKICBjb25zdCBzdGVwcyA9IHVwbG9hZEZpbGVzU3RlcChpbnB1dElkLCBvdXRwdXRJZCk7CiAgY29uc3Qgb3V0cHV0RWxlbWVudCA9IGRvY3VtZW50LmdldEVsZW1lbnRCeUlkKG91dHB1dElkKTsKICAvLyBDYWNoZSBzdGVwcyBvbiB0aGUgb3V0cHV0RWxlbWVudCB0byBtYWtlIGl0IGF2YWlsYWJsZSBmb3IgdGhlIG5leHQgY2FsbAogIC8vIHRvIHVwbG9hZEZpbGVzQ29udGludWUgZnJvbSBQeXRob24uCiAgb3V0cHV0RWxlbWVudC5zdGVwcyA9IHN0ZXBzOwoKICByZXR1cm4gX3VwbG9hZEZpbGVzQ29udGludWUob3V0cHV0SWQpOwp9CgovLyBUaGlzIGlzIHJvdWdobHkgYW4gYXN5bmMgZ2VuZXJhdG9yIChub3Qgc3VwcG9ydGVkIGluIHRoZSBicm93c2VyIHlldCksCi8vIHdoZXJlIHRoZXJlIGFyZSBtdWx0aXBsZSBhc3luY2hyb25vdXMgc3RlcHMgYW5kIHRoZSBQeXRob24gc2lkZSBpcyBnb2luZwovLyB0byBwb2xsIGZvciBjb21wbGV0aW9uIG9mIGVhY2ggc3RlcC4KLy8gVGhpcyB1c2VzIGEgUHJvbWlzZSB0byBibG9jayB0aGUgcHl0aG9uIHNpZGUgb24gY29tcGxldGlvbiBvZiBlYWNoIHN0ZXAsCi8vIHRoZW4gcGFzc2VzIHRoZSByZXN1bHQgb2YgdGhlIHByZXZpb3VzIHN0ZXAgYXMgdGhlIGlucHV0IHRvIHRoZSBuZXh0IHN0ZXAuCmZ1bmN0aW9uIF91cGxvYWRGaWxlc0NvbnRpbnVlKG91dHB1dElkKSB7CiAgY29uc3Qgb3V0cHV0RWxlbWVudCA9IGRvY3VtZW50LmdldEVsZW1lbnRCeUlkKG91dHB1dElkKTsKICBjb25zdCBzdGVwcyA9IG91dHB1dEVsZW1lbnQuc3RlcHM7CgogIGNvbnN0IG5leHQgPSBzdGVwcy5uZXh0KG91dHB1dEVsZW1lbnQubGFzdFByb21pc2VWYWx1ZSk7CiAgcmV0dXJuIFByb21pc2UucmVzb2x2ZShuZXh0LnZhbHVlLnByb21pc2UpLnRoZW4oKHZhbHVlKSA9PiB7CiAgICAvLyBDYWNoZSB0aGUgbGFzdCBwcm9taXNlIHZhbHVlIHRvIG1ha2UgaXQgYXZhaWxhYmxlIHRvIHRoZSBuZXh0CiAgICAvLyBzdGVwIG9mIHRoZSBnZW5lcmF0b3IuCiAgICBvdXRwdXRFbGVtZW50Lmxhc3RQcm9taXNlVmFsdWUgPSB2YWx1ZTsKICAgIHJldHVybiBuZXh0LnZhbHVlLnJlc3BvbnNlOwogIH0pOwp9CgovKioKICogR2VuZXJhdG9yIGZ1bmN0aW9uIHdoaWNoIGlzIGNhbGxlZCBiZXR3ZWVuIGVhY2ggYXN5bmMgc3RlcCBvZiB0aGUgdXBsb2FkCiAqIHByb2Nlc3MuCiAqIEBwYXJhbSB7c3RyaW5nfSBpbnB1dElkIEVsZW1lbnQgSUQgb2YgdGhlIGlucHV0IGZpbGUgcGlja2VyIGVsZW1lbnQuCiAqIEBwYXJhbSB7c3RyaW5nfSBvdXRwdXRJZCBFbGVtZW50IElEIG9mIHRoZSBvdXRwdXQgZGlzcGxheS4KICogQHJldHVybiB7IUl0ZXJhYmxlPCFPYmplY3Q+fSBJdGVyYWJsZSBvZiBuZXh0IHN0ZXBzLgogKi8KZnVuY3Rpb24qIHVwbG9hZEZpbGVzU3RlcChpbnB1dElkLCBvdXRwdXRJZCkgewogIGNvbnN0IGlucHV0RWxlbWVudCA9IGRvY3VtZW50LmdldEVsZW1lbnRCeUlkKGlucHV0SWQpOwogIGlucHV0RWxlbWVudC5kaXNhYmxlZCA9IGZhbHNlOwoKICBjb25zdCBvdXRwdXRFbGVtZW50ID0gZG9jdW1lbnQuZ2V0RWxlbWVudEJ5SWQob3V0cHV0SWQpOwogIG91dHB1dEVsZW1lbnQuaW5uZXJIVE1MID0gJyc7CgogIGNvbnN0IHBpY2tlZFByb21pc2UgPSBuZXcgUHJvbWlzZSgocmVzb2x2ZSkgPT4gewogICAgaW5wdXRFbGVtZW50LmFkZEV2ZW50TGlzdGVuZXIoJ2NoYW5nZScsIChlKSA9PiB7CiAgICAgIHJlc29sdmUoZS50YXJnZXQuZmlsZXMpOwogICAgfSk7CiAgfSk7CgogIGNvbnN0IGNhbmNlbCA9IGRvY3VtZW50LmNyZWF0ZUVsZW1lbnQoJ2J1dHRvbicpOwogIGlucHV0RWxlbWVudC5wYXJlbnRFbGVtZW50LmFwcGVuZENoaWxkKGNhbmNlbCk7CiAgY2FuY2VsLnRleHRDb250ZW50ID0gJ0NhbmNlbCB1cGxvYWQnOwogIGNvbnN0IGNhbmNlbFByb21pc2UgPSBuZXcgUHJvbWlzZSgocmVzb2x2ZSkgPT4gewogICAgY2FuY2VsLm9uY2xpY2sgPSAoKSA9PiB7CiAgICAgIHJlc29sdmUobnVsbCk7CiAgICB9OwogIH0pOwoKICAvLyBXYWl0IGZvciB0aGUgdXNlciB0byBwaWNrIHRoZSBmaWxlcy4KICBjb25zdCBmaWxlcyA9IHlpZWxkIHsKICAgIHByb21pc2U6IFByb21pc2UucmFjZShbcGlja2VkUHJvbWlzZSwgY2FuY2VsUHJvbWlzZV0pLAogICAgcmVzcG9uc2U6IHsKICAgICAgYWN0aW9uOiAnc3RhcnRpbmcnLAogICAgfQogIH07CgogIGNhbmNlbC5yZW1vdmUoKTsKCiAgLy8gRGlzYWJsZSB0aGUgaW5wdXQgZWxlbWVudCBzaW5jZSBmdXJ0aGVyIHBpY2tzIGFyZSBub3QgYWxsb3dlZC4KICBpbnB1dEVsZW1lbnQuZGlzYWJsZWQgPSB0cnVlOwoKICBpZiAoIWZpbGVzKSB7CiAgICByZXR1cm4gewogICAgICByZXNwb25zZTogewogICAgICAgIGFjdGlvbjogJ2NvbXBsZXRlJywKICAgICAgfQogICAgfTsKICB9CgogIGZvciAoY29uc3QgZmlsZSBvZiBmaWxlcykgewogICAgY29uc3QgbGkgPSBkb2N1bWVudC5jcmVhdGVFbGVtZW50KCdsaScpOwogICAgbGkuYXBwZW5kKHNwYW4oZmlsZS5uYW1lLCB7Zm9udFdlaWdodDogJ2JvbGQnfSkpOwogICAgbGkuYXBwZW5kKHNwYW4oCiAgICAgICAgYCgke2ZpbGUudHlwZSB8fCAnbi9hJ30pIC0gJHtmaWxlLnNpemV9IGJ5dGVzLCBgICsKICAgICAgICBgbGFzdCBtb2RpZmllZDogJHsKICAgICAgICAgICAgZmlsZS5sYXN0TW9kaWZpZWREYXRlID8gZmlsZS5sYXN0TW9kaWZpZWREYXRlLnRvTG9jYWxlRGF0ZVN0cmluZygpIDoKICAgICAgICAgICAgICAgICAgICAgICAgICAgICAgICAgICAgJ24vYSd9IC0gYCkpOwogICAgY29uc3QgcGVyY2VudCA9IHNwYW4oJzAlIGRvbmUnKTsKICAgIGxpLmFwcGVuZENoaWxkKHBlcmNlbnQpOwoKICAgIG91dHB1dEVsZW1lbnQuYXBwZW5kQ2hpbGQobGkpOwoKICAgIGNvbnN0IGZpbGVEYXRhUHJvbWlzZSA9IG5ldyBQcm9taXNlKChyZXNvbHZlKSA9PiB7CiAgICAgIGNvbnN0IHJlYWRlciA9IG5ldyBGaWxlUmVhZGVyKCk7CiAgICAgIHJlYWRlci5vbmxvYWQgPSAoZSkgPT4gewogICAgICAgIHJlc29sdmUoZS50YXJnZXQucmVzdWx0KTsKICAgICAgfTsKICAgICAgcmVhZGVyLnJlYWRBc0FycmF5QnVmZmVyKGZpbGUpOwogICAgfSk7CiAgICAvLyBXYWl0IGZvciB0aGUgZGF0YSB0byBiZSByZWFkeS4KICAgIGxldCBmaWxlRGF0YSA9IHlpZWxkIHsKICAgICAgcHJvbWlzZTogZmlsZURhdGFQcm9taXNlLAogICAgICByZXNwb25zZTogewogICAgICAgIGFjdGlvbjogJ2NvbnRpbnVlJywKICAgICAgfQogICAgfTsKCiAgICAvLyBVc2UgYSBjaHVua2VkIHNlbmRpbmcgdG8gYXZvaWQgbWVzc2FnZSBzaXplIGxpbWl0cy4gU2VlIGIvNjIxMTU2NjAuCiAgICBsZXQgcG9zaXRpb24gPSAwOwogICAgZG8gewogICAgICBjb25zdCBsZW5ndGggPSBNYXRoLm1pbihmaWxlRGF0YS5ieXRlTGVuZ3RoIC0gcG9zaXRpb24sIE1BWF9QQVlMT0FEX1NJWkUpOwogICAgICBjb25zdCBjaHVuayA9IG5ldyBVaW50OEFycmF5KGZpbGVEYXRhLCBwb3NpdGlvbiwgbGVuZ3RoKTsKICAgICAgcG9zaXRpb24gKz0gbGVuZ3RoOwoKICAgICAgY29uc3QgYmFzZTY0ID0gYnRvYShTdHJpbmcuZnJvbUNoYXJDb2RlLmFwcGx5KG51bGwsIGNodW5rKSk7CiAgICAgIHlpZWxkIHsKICAgICAgICByZXNwb25zZTogewogICAgICAgICAgYWN0aW9uOiAnYXBwZW5kJywKICAgICAgICAgIGZpbGU6IGZpbGUubmFtZSwKICAgICAgICAgIGRhdGE6IGJhc2U2NCwKICAgICAgICB9LAogICAgICB9OwoKICAgICAgbGV0IHBlcmNlbnREb25lID0gZmlsZURhdGEuYnl0ZUxlbmd0aCA9PT0gMCA/CiAgICAgICAgICAxMDAgOgogICAgICAgICAgTWF0aC5yb3VuZCgocG9zaXRpb24gLyBmaWxlRGF0YS5ieXRlTGVuZ3RoKSAqIDEwMCk7CiAgICAgIHBlcmNlbnQudGV4dENvbnRlbnQgPSBgJHtwZXJjZW50RG9uZX0lIGRvbmVgOwoKICAgIH0gd2hpbGUgKHBvc2l0aW9uIDwgZmlsZURhdGEuYnl0ZUxlbmd0aCk7CiAgfQoKICAvLyBBbGwgZG9uZS4KICB5aWVsZCB7CiAgICByZXNwb25zZTogewogICAgICBhY3Rpb246ICdjb21wbGV0ZScsCiAgICB9CiAgfTsKfQoKc2NvcGUuZ29vZ2xlID0gc2NvcGUuZ29vZ2xlIHx8IHt9OwpzY29wZS5nb29nbGUuY29sYWIgPSBzY29wZS5nb29nbGUuY29sYWIgfHwge307CnNjb3BlLmdvb2dsZS5jb2xhYi5fZmlsZXMgPSB7CiAgX3VwbG9hZEZpbGVzLAogIF91cGxvYWRGaWxlc0NvbnRpbnVlLAp9Owp9KShzZWxmKTsK",
              "ok": true,
              "headers": [
                [
                  "content-type",
                  "application/javascript"
                ]
              ],
              "status": 200,
              "status_text": ""
            }
          },
          "base_uri": "https://localhost:8080/",
          "height": 74
        },
        "id": "59fe148a",
        "outputId": "6a7aff3b-1593-4911-a0b4-112154dfec5e"
      },
      "source": [
        "import pandas as pd\n",
        "import numpy as np\n",
        "from google.colab import files\n",
        "updated = files.upload()"
      ],
      "id": "59fe148a",
      "execution_count": null,
      "outputs": [
        {
          "output_type": "display_data",
          "data": {
            "text/html": [
              "\n",
              "     <input type=\"file\" id=\"files-ef2ea755-60b8-4c84-a40f-882dd0e796bf\" name=\"files[]\" multiple disabled\n",
              "        style=\"border:none\" />\n",
              "     <output id=\"result-ef2ea755-60b8-4c84-a40f-882dd0e796bf\">\n",
              "      Upload widget is only available when the cell has been executed in the\n",
              "      current browser session. Please rerun this cell to enable.\n",
              "      </output>\n",
              "      <script src=\"/nbextensions/google.colab/files.js\"></script> "
            ],
            "text/plain": [
              "<IPython.core.display.HTML object>"
            ]
          },
          "metadata": {
            "tags": []
          }
        },
        {
          "output_type": "stream",
          "text": [
            "Saving D3 P6 R2.csv to D3 P6 R2.csv\n"
          ],
          "name": "stdout"
        }
      ]
    },
    {
      "cell_type": "code",
      "metadata": {
        "id": "a5cfd3c9",
        "colab": {
          "base_uri": "https://localhost:8080/",
          "height": 205
        },
        "outputId": "522561ac-e1c7-4764-e1cc-49c1206c62fe"
      },
      "source": [
        "df=pd.read_csv(\"D3 P6 R2.csv\")\n",
        "df.head()"
      ],
      "id": "a5cfd3c9",
      "execution_count": null,
      "outputs": [
        {
          "output_type": "execute_result",
          "data": {
            "text/html": [
              "<div>\n",
              "<style scoped>\n",
              "    .dataframe tbody tr th:only-of-type {\n",
              "        vertical-align: middle;\n",
              "    }\n",
              "\n",
              "    .dataframe tbody tr th {\n",
              "        vertical-align: top;\n",
              "    }\n",
              "\n",
              "    .dataframe thead th {\n",
              "        text-align: right;\n",
              "    }\n",
              "</style>\n",
              "<table border=\"1\" class=\"dataframe\">\n",
              "  <thead>\n",
              "    <tr style=\"text-align: right;\">\n",
              "      <th></th>\n",
              "      <th>V</th>\n",
              "      <th>I</th>\n",
              "      <th>j</th>\n",
              "      <th>Unnamed: 3</th>\n",
              "      <th>Unnamed: 4</th>\n",
              "      <th>0.000006</th>\n",
              "    </tr>\n",
              "  </thead>\n",
              "  <tbody>\n",
              "    <tr>\n",
              "      <th>0</th>\n",
              "      <td>4.00</td>\n",
              "      <td>0.00171</td>\n",
              "      <td>285.166667</td>\n",
              "      <td>16.0</td>\n",
              "      <td>NaN</td>\n",
              "      <td>NaN</td>\n",
              "    </tr>\n",
              "    <tr>\n",
              "      <th>1</th>\n",
              "      <td>3.98</td>\n",
              "      <td>0.00167</td>\n",
              "      <td>278.000000</td>\n",
              "      <td>NaN</td>\n",
              "      <td>NaN</td>\n",
              "      <td>NaN</td>\n",
              "    </tr>\n",
              "    <tr>\n",
              "      <th>2</th>\n",
              "      <td>3.96</td>\n",
              "      <td>0.00164</td>\n",
              "      <td>273.000000</td>\n",
              "      <td>NaN</td>\n",
              "      <td>NaN</td>\n",
              "      <td>NaN</td>\n",
              "    </tr>\n",
              "    <tr>\n",
              "      <th>3</th>\n",
              "      <td>3.94</td>\n",
              "      <td>0.00163</td>\n",
              "      <td>272.000000</td>\n",
              "      <td>NaN</td>\n",
              "      <td>NaN</td>\n",
              "      <td>NaN</td>\n",
              "    </tr>\n",
              "    <tr>\n",
              "      <th>4</th>\n",
              "      <td>3.92</td>\n",
              "      <td>0.00161</td>\n",
              "      <td>268.000000</td>\n",
              "      <td>NaN</td>\n",
              "      <td>NaN</td>\n",
              "      <td>NaN</td>\n",
              "    </tr>\n",
              "  </tbody>\n",
              "</table>\n",
              "</div>"
            ],
            "text/plain": [
              "      V        I           j  Unnamed: 3  Unnamed: 4  0.000006\n",
              "0  4.00  0.00171  285.166667        16.0         NaN       NaN\n",
              "1  3.98  0.00167  278.000000         NaN         NaN       NaN\n",
              "2  3.96  0.00164  273.000000         NaN         NaN       NaN\n",
              "3  3.94  0.00163  272.000000         NaN         NaN       NaN\n",
              "4  3.92  0.00161  268.000000         NaN         NaN       NaN"
            ]
          },
          "metadata": {
            "tags": []
          },
          "execution_count": 5
        }
      ]
    },
    {
      "cell_type": "code",
      "metadata": {
        "id": "b496070d",
        "colab": {
          "base_uri": "https://localhost:8080/",
          "height": 422
        },
        "outputId": "8de4424c-ea1d-4f5d-b4ee-fa370763eae4"
      },
      "source": [
        "task = df.iloc[:,0:2]\n",
        "task"
      ],
      "id": "b496070d",
      "execution_count": null,
      "outputs": [
        {
          "output_type": "execute_result",
          "data": {
            "text/html": [
              "<div>\n",
              "<style scoped>\n",
              "    .dataframe tbody tr th:only-of-type {\n",
              "        vertical-align: middle;\n",
              "    }\n",
              "\n",
              "    .dataframe tbody tr th {\n",
              "        vertical-align: top;\n",
              "    }\n",
              "\n",
              "    .dataframe thead th {\n",
              "        text-align: right;\n",
              "    }\n",
              "</style>\n",
              "<table border=\"1\" class=\"dataframe\">\n",
              "  <thead>\n",
              "    <tr style=\"text-align: right;\">\n",
              "      <th></th>\n",
              "      <th>V</th>\n",
              "      <th>I</th>\n",
              "    </tr>\n",
              "  </thead>\n",
              "  <tbody>\n",
              "    <tr>\n",
              "      <th>0</th>\n",
              "      <td>4.00</td>\n",
              "      <td>1.710000e-03</td>\n",
              "    </tr>\n",
              "    <tr>\n",
              "      <th>1</th>\n",
              "      <td>3.98</td>\n",
              "      <td>1.670000e-03</td>\n",
              "    </tr>\n",
              "    <tr>\n",
              "      <th>2</th>\n",
              "      <td>3.96</td>\n",
              "      <td>1.640000e-03</td>\n",
              "    </tr>\n",
              "    <tr>\n",
              "      <th>3</th>\n",
              "      <td>3.94</td>\n",
              "      <td>1.630000e-03</td>\n",
              "    </tr>\n",
              "    <tr>\n",
              "      <th>4</th>\n",
              "      <td>3.92</td>\n",
              "      <td>1.610000e-03</td>\n",
              "    </tr>\n",
              "    <tr>\n",
              "      <th>...</th>\n",
              "      <td>...</td>\n",
              "      <td>...</td>\n",
              "    </tr>\n",
              "    <tr>\n",
              "      <th>196</th>\n",
              "      <td>0.08</td>\n",
              "      <td>1.240000e-06</td>\n",
              "    </tr>\n",
              "    <tr>\n",
              "      <th>197</th>\n",
              "      <td>0.06</td>\n",
              "      <td>8.940000e-07</td>\n",
              "    </tr>\n",
              "    <tr>\n",
              "      <th>198</th>\n",
              "      <td>0.04</td>\n",
              "      <td>5.830000e-07</td>\n",
              "    </tr>\n",
              "    <tr>\n",
              "      <th>199</th>\n",
              "      <td>0.02</td>\n",
              "      <td>2.870000e-07</td>\n",
              "    </tr>\n",
              "    <tr>\n",
              "      <th>200</th>\n",
              "      <td>0.00</td>\n",
              "      <td>1.040000e-10</td>\n",
              "    </tr>\n",
              "  </tbody>\n",
              "</table>\n",
              "<p>201 rows × 2 columns</p>\n",
              "</div>"
            ],
            "text/plain": [
              "        V             I\n",
              "0    4.00  1.710000e-03\n",
              "1    3.98  1.670000e-03\n",
              "2    3.96  1.640000e-03\n",
              "3    3.94  1.630000e-03\n",
              "4    3.92  1.610000e-03\n",
              "..    ...           ...\n",
              "196  0.08  1.240000e-06\n",
              "197  0.06  8.940000e-07\n",
              "198  0.04  5.830000e-07\n",
              "199  0.02  2.870000e-07\n",
              "200  0.00  1.040000e-10\n",
              "\n",
              "[201 rows x 2 columns]"
            ]
          },
          "metadata": {
            "tags": []
          },
          "execution_count": 6
        }
      ]
    },
    {
      "cell_type": "code",
      "metadata": {
        "id": "cb48d1a2",
        "colab": {
          "base_uri": "https://localhost:8080/"
        },
        "outputId": "4f29c9e1-8324-4541-fcd4-be731ba353f5"
      },
      "source": [
        "task1= np.array(task)\n",
        "task1"
      ],
      "id": "cb48d1a2",
      "execution_count": null,
      "outputs": [
        {
          "output_type": "execute_result",
          "data": {
            "text/plain": [
              "array([[4.00e+00, 1.71e-03],\n",
              "       [3.98e+00, 1.67e-03],\n",
              "       [3.96e+00, 1.64e-03],\n",
              "       [3.94e+00, 1.63e-03],\n",
              "       [3.92e+00, 1.61e-03],\n",
              "       [3.90e+00, 1.56e-03],\n",
              "       [3.88e+00, 1.55e-03],\n",
              "       [3.86e+00, 1.51e-03],\n",
              "       [3.84e+00, 1.48e-03],\n",
              "       [3.82e+00, 1.48e-03],\n",
              "       [3.80e+00, 1.44e-03],\n",
              "       [3.78e+00, 1.42e-03],\n",
              "       [3.76e+00, 1.40e-03],\n",
              "       [3.74e+00, 1.37e-03],\n",
              "       [3.72e+00, 1.36e-03],\n",
              "       [3.70e+00, 1.33e-03],\n",
              "       [3.68e+00, 1.30e-03],\n",
              "       [3.66e+00, 1.27e-03],\n",
              "       [3.64e+00, 1.25e-03],\n",
              "       [3.62e+00, 1.24e-03],\n",
              "       [3.60e+00, 1.22e-03],\n",
              "       [3.58e+00, 1.19e-03],\n",
              "       [3.56e+00, 1.19e-03],\n",
              "       [3.54e+00, 1.16e-03],\n",
              "       [3.52e+00, 1.14e-03],\n",
              "       [3.50e+00, 1.12e-03],\n",
              "       [3.48e+00, 1.09e-03],\n",
              "       [3.46e+00, 1.08e-03],\n",
              "       [3.44e+00, 1.07e-03],\n",
              "       [3.42e+00, 1.06e-03],\n",
              "       [3.40e+00, 1.04e-03],\n",
              "       [3.38e+00, 1.02e-03],\n",
              "       [3.36e+00, 1.01e-03],\n",
              "       [3.34e+00, 9.79e-04],\n",
              "       [3.32e+00, 9.70e-04],\n",
              "       [3.30e+00, 9.59e-04],\n",
              "       [3.28e+00, 9.40e-04],\n",
              "       [3.26e+00, 9.22e-04],\n",
              "       [3.24e+00, 9.08e-04],\n",
              "       [3.22e+00, 8.98e-04],\n",
              "       [3.20e+00, 8.87e-04],\n",
              "       [3.18e+00, 8.71e-04],\n",
              "       [3.16e+00, 8.59e-04],\n",
              "       [3.14e+00, 8.46e-04],\n",
              "       [3.12e+00, 8.33e-04],\n",
              "       [3.10e+00, 8.25e-04],\n",
              "       [3.08e+00, 8.15e-04],\n",
              "       [3.06e+00, 8.06e-04],\n",
              "       [3.04e+00, 7.98e-04],\n",
              "       [3.02e+00, 7.93e-04],\n",
              "       [3.00e+00, 7.83e-04],\n",
              "       [2.98e+00, 7.76e-04],\n",
              "       [2.96e+00, 7.66e-04],\n",
              "       [2.94e+00, 7.54e-04],\n",
              "       [2.92e+00, 7.40e-04],\n",
              "       [2.90e+00, 7.37e-04],\n",
              "       [2.88e+00, 7.28e-04],\n",
              "       [2.86e+00, 7.18e-04],\n",
              "       [2.84e+00, 7.11e-04],\n",
              "       [2.82e+00, 7.00e-04],\n",
              "       [2.80e+00, 6.94e-04],\n",
              "       [2.78e+00, 6.85e-04],\n",
              "       [2.76e+00, 6.79e-04],\n",
              "       [2.74e+00, 6.69e-04],\n",
              "       [2.72e+00, 6.60e-04],\n",
              "       [2.70e+00, 6.55e-04],\n",
              "       [2.68e+00, 6.50e-04],\n",
              "       [2.66e+00, 6.38e-04],\n",
              "       [2.64e+00, 6.28e-04],\n",
              "       [2.62e+00, 6.19e-04],\n",
              "       [2.60e+00, 6.09e-04],\n",
              "       [2.58e+00, 6.02e-04],\n",
              "       [2.56e+00, 5.98e-04],\n",
              "       [2.54e+00, 5.87e-04],\n",
              "       [2.52e+00, 5.76e-04],\n",
              "       [2.50e+00, 5.68e-04],\n",
              "       [2.48e+00, 5.60e-04],\n",
              "       [2.46e+00, 5.52e-04],\n",
              "       [2.44e+00, 5.44e-04],\n",
              "       [2.42e+00, 5.36e-04],\n",
              "       [2.40e+00, 5.30e-04],\n",
              "       [2.38e+00, 5.22e-04],\n",
              "       [2.36e+00, 5.12e-04],\n",
              "       [2.34e+00, 5.05e-04],\n",
              "       [2.32e+00, 4.95e-04],\n",
              "       [2.30e+00, 4.89e-04],\n",
              "       [2.28e+00, 4.82e-04],\n",
              "       [2.26e+00, 4.75e-04],\n",
              "       [2.24e+00, 4.67e-04],\n",
              "       [2.22e+00, 4.56e-04],\n",
              "       [2.20e+00, 4.49e-04],\n",
              "       [2.18e+00, 4.40e-04],\n",
              "       [2.16e+00, 4.31e-04],\n",
              "       [2.14e+00, 4.21e-04],\n",
              "       [2.12e+00, 4.13e-04],\n",
              "       [2.10e+00, 4.05e-04],\n",
              "       [2.08e+00, 3.98e-04],\n",
              "       [2.06e+00, 3.90e-04],\n",
              "       [2.04e+00, 3.81e-04],\n",
              "       [2.02e+00, 3.71e-04],\n",
              "       [2.00e+00, 3.66e-04],\n",
              "       [1.98e+00, 3.57e-04],\n",
              "       [1.96e+00, 3.50e-04],\n",
              "       [1.94e+00, 3.43e-04],\n",
              "       [1.92e+00, 3.35e-04],\n",
              "       [1.90e+00, 3.29e-04],\n",
              "       [1.88e+00, 3.21e-04],\n",
              "       [1.86e+00, 3.16e-04],\n",
              "       [1.84e+00, 3.09e-04],\n",
              "       [1.82e+00, 3.02e-04],\n",
              "       [1.80e+00, 2.94e-04],\n",
              "       [1.78e+00, 2.88e-04],\n",
              "       [1.76e+00, 2.79e-04],\n",
              "       [1.74e+00, 2.71e-04],\n",
              "       [1.72e+00, 2.64e-04],\n",
              "       [1.70e+00, 2.56e-04],\n",
              "       [1.68e+00, 2.49e-04],\n",
              "       [1.66e+00, 2.44e-04],\n",
              "       [1.64e+00, 2.38e-04],\n",
              "       [1.62e+00, 2.31e-04],\n",
              "       [1.60e+00, 2.24e-04],\n",
              "       [1.58e+00, 2.19e-04],\n",
              "       [1.56e+00, 2.12e-04],\n",
              "       [1.54e+00, 2.07e-04],\n",
              "       [1.52e+00, 2.02e-04],\n",
              "       [1.50e+00, 1.97e-04],\n",
              "       [1.48e+00, 1.92e-04],\n",
              "       [1.46e+00, 1.85e-04],\n",
              "       [1.44e+00, 1.80e-04],\n",
              "       [1.42e+00, 1.75e-04],\n",
              "       [1.40e+00, 1.70e-04],\n",
              "       [1.38e+00, 1.64e-04],\n",
              "       [1.36e+00, 1.59e-04],\n",
              "       [1.34e+00, 1.54e-04],\n",
              "       [1.32e+00, 1.49e-04],\n",
              "       [1.30e+00, 1.45e-04],\n",
              "       [1.28e+00, 1.40e-04],\n",
              "       [1.26e+00, 1.34e-04],\n",
              "       [1.24e+00, 1.30e-04],\n",
              "       [1.22e+00, 1.27e-04],\n",
              "       [1.20e+00, 1.23e-04],\n",
              "       [1.18e+00, 1.19e-04],\n",
              "       [1.16e+00, 1.15e-04],\n",
              "       [1.14e+00, 1.10e-04],\n",
              "       [1.12e+00, 1.07e-04],\n",
              "       [1.10e+00, 1.03e-04],\n",
              "       [1.08e+00, 9.87e-05],\n",
              "       [1.06e+00, 9.50e-05],\n",
              "       [1.04e+00, 9.15e-05],\n",
              "       [1.02e+00, 8.83e-05],\n",
              "       [1.00e+00, 8.43e-05],\n",
              "       [9.80e-01, 8.09e-05],\n",
              "       [9.60e-01, 7.77e-05],\n",
              "       [9.40e-01, 7.44e-05],\n",
              "       [9.20e-01, 7.08e-05],\n",
              "       [9.00e-01, 6.82e-05],\n",
              "       [8.80e-01, 6.50e-05],\n",
              "       [8.60e-01, 6.27e-05],\n",
              "       [8.40e-01, 5.91e-05],\n",
              "       [8.20e-01, 5.62e-05],\n",
              "       [8.00e-01, 5.36e-05],\n",
              "       [7.80e-01, 5.10e-05],\n",
              "       [7.60e-01, 4.81e-05],\n",
              "       [7.40e-01, 4.53e-05],\n",
              "       [7.20e-01, 4.24e-05],\n",
              "       [7.00e-01, 3.99e-05],\n",
              "       [6.80e-01, 3.77e-05],\n",
              "       [6.60e-01, 3.56e-05],\n",
              "       [6.40e-01, 3.35e-05],\n",
              "       [6.20e-01, 3.14e-05],\n",
              "       [6.00e-01, 2.96e-05],\n",
              "       [5.80e-01, 2.77e-05],\n",
              "       [5.60e-01, 2.58e-05],\n",
              "       [5.40e-01, 2.41e-05],\n",
              "       [5.20e-01, 2.24e-05],\n",
              "       [5.00e-01, 2.08e-05],\n",
              "       [4.80e-01, 1.93e-05],\n",
              "       [4.60e-01, 1.79e-05],\n",
              "       [4.40e-01, 1.65e-05],\n",
              "       [4.20e-01, 1.51e-05],\n",
              "       [4.00e-01, 1.38e-05],\n",
              "       [3.80e-01, 1.25e-05],\n",
              "       [3.60e-01, 1.14e-05],\n",
              "       [3.40e-01, 1.03e-05],\n",
              "       [3.20e-01, 9.22e-06],\n",
              "       [3.00e-01, 8.21e-06],\n",
              "       [2.80e-01, 7.28e-06],\n",
              "       [2.60e-01, 6.43e-06],\n",
              "       [2.40e-01, 5.65e-06],\n",
              "       [2.20e-01, 4.93e-06],\n",
              "       [2.00e-01, 4.26e-06],\n",
              "       [1.80e-01, 3.64e-06],\n",
              "       [1.60e-01, 3.07e-06],\n",
              "       [1.40e-01, 2.54e-06],\n",
              "       [1.20e-01, 2.05e-06],\n",
              "       [1.00e-01, 1.64e-06],\n",
              "       [8.00e-02, 1.24e-06],\n",
              "       [6.00e-02, 8.94e-07],\n",
              "       [4.00e-02, 5.83e-07],\n",
              "       [2.00e-02, 2.87e-07],\n",
              "       [0.00e+00, 1.04e-10]])"
            ]
          },
          "metadata": {
            "tags": []
          },
          "execution_count": 7
        }
      ]
    },
    {
      "cell_type": "code",
      "metadata": {
        "id": "8aa2ca3e",
        "colab": {
          "base_uri": "https://localhost:8080/"
        },
        "outputId": "e69933d7-5176-4ad8-d177-598be3a5cf3f"
      },
      "source": [
        "I= np.array(task[\"I\"])\n",
        "I"
      ],
      "id": "8aa2ca3e",
      "execution_count": null,
      "outputs": [
        {
          "output_type": "execute_result",
          "data": {
            "text/plain": [
              "array([1.71e-03, 1.67e-03, 1.64e-03, 1.63e-03, 1.61e-03, 1.56e-03,\n",
              "       1.55e-03, 1.51e-03, 1.48e-03, 1.48e-03, 1.44e-03, 1.42e-03,\n",
              "       1.40e-03, 1.37e-03, 1.36e-03, 1.33e-03, 1.30e-03, 1.27e-03,\n",
              "       1.25e-03, 1.24e-03, 1.22e-03, 1.19e-03, 1.19e-03, 1.16e-03,\n",
              "       1.14e-03, 1.12e-03, 1.09e-03, 1.08e-03, 1.07e-03, 1.06e-03,\n",
              "       1.04e-03, 1.02e-03, 1.01e-03, 9.79e-04, 9.70e-04, 9.59e-04,\n",
              "       9.40e-04, 9.22e-04, 9.08e-04, 8.98e-04, 8.87e-04, 8.71e-04,\n",
              "       8.59e-04, 8.46e-04, 8.33e-04, 8.25e-04, 8.15e-04, 8.06e-04,\n",
              "       7.98e-04, 7.93e-04, 7.83e-04, 7.76e-04, 7.66e-04, 7.54e-04,\n",
              "       7.40e-04, 7.37e-04, 7.28e-04, 7.18e-04, 7.11e-04, 7.00e-04,\n",
              "       6.94e-04, 6.85e-04, 6.79e-04, 6.69e-04, 6.60e-04, 6.55e-04,\n",
              "       6.50e-04, 6.38e-04, 6.28e-04, 6.19e-04, 6.09e-04, 6.02e-04,\n",
              "       5.98e-04, 5.87e-04, 5.76e-04, 5.68e-04, 5.60e-04, 5.52e-04,\n",
              "       5.44e-04, 5.36e-04, 5.30e-04, 5.22e-04, 5.12e-04, 5.05e-04,\n",
              "       4.95e-04, 4.89e-04, 4.82e-04, 4.75e-04, 4.67e-04, 4.56e-04,\n",
              "       4.49e-04, 4.40e-04, 4.31e-04, 4.21e-04, 4.13e-04, 4.05e-04,\n",
              "       3.98e-04, 3.90e-04, 3.81e-04, 3.71e-04, 3.66e-04, 3.57e-04,\n",
              "       3.50e-04, 3.43e-04, 3.35e-04, 3.29e-04, 3.21e-04, 3.16e-04,\n",
              "       3.09e-04, 3.02e-04, 2.94e-04, 2.88e-04, 2.79e-04, 2.71e-04,\n",
              "       2.64e-04, 2.56e-04, 2.49e-04, 2.44e-04, 2.38e-04, 2.31e-04,\n",
              "       2.24e-04, 2.19e-04, 2.12e-04, 2.07e-04, 2.02e-04, 1.97e-04,\n",
              "       1.92e-04, 1.85e-04, 1.80e-04, 1.75e-04, 1.70e-04, 1.64e-04,\n",
              "       1.59e-04, 1.54e-04, 1.49e-04, 1.45e-04, 1.40e-04, 1.34e-04,\n",
              "       1.30e-04, 1.27e-04, 1.23e-04, 1.19e-04, 1.15e-04, 1.10e-04,\n",
              "       1.07e-04, 1.03e-04, 9.87e-05, 9.50e-05, 9.15e-05, 8.83e-05,\n",
              "       8.43e-05, 8.09e-05, 7.77e-05, 7.44e-05, 7.08e-05, 6.82e-05,\n",
              "       6.50e-05, 6.27e-05, 5.91e-05, 5.62e-05, 5.36e-05, 5.10e-05,\n",
              "       4.81e-05, 4.53e-05, 4.24e-05, 3.99e-05, 3.77e-05, 3.56e-05,\n",
              "       3.35e-05, 3.14e-05, 2.96e-05, 2.77e-05, 2.58e-05, 2.41e-05,\n",
              "       2.24e-05, 2.08e-05, 1.93e-05, 1.79e-05, 1.65e-05, 1.51e-05,\n",
              "       1.38e-05, 1.25e-05, 1.14e-05, 1.03e-05, 9.22e-06, 8.21e-06,\n",
              "       7.28e-06, 6.43e-06, 5.65e-06, 4.93e-06, 4.26e-06, 3.64e-06,\n",
              "       3.07e-06, 2.54e-06, 2.05e-06, 1.64e-06, 1.24e-06, 8.94e-07,\n",
              "       5.83e-07, 2.87e-07, 1.04e-10])"
            ]
          },
          "metadata": {
            "tags": []
          },
          "execution_count": 36
        }
      ]
    },
    {
      "cell_type": "code",
      "metadata": {
        "id": "e78f4202",
        "colab": {
          "base_uri": "https://localhost:8080/"
        },
        "outputId": "307e6072-5e19-4d44-e5fa-63ffdcd6c7eb"
      },
      "source": [
        "J = I/0.000006\n",
        "J = np.array(J)\n",
        "J\n",
        "log_j = np.log10(J, out=J, where=J> 0)\n",
        "log_j\n",
        "\n"
      ],
      "id": "e78f4202",
      "execution_count": null,
      "outputs": [
        {
          "output_type": "execute_result",
          "data": {
            "text/plain": [
              "array([ 2.45484486,  2.44456522,  2.4366926 ,  2.43403635,  2.42867463,\n",
              "        2.41497335,  2.41218045,  2.4008257 ,  2.39211047,  2.39211047,\n",
              "        2.38021124,  2.37413709,  2.36797679,  2.35856932,  2.35538766,\n",
              "        2.34570039,  2.3357921 ,  2.32565247,  2.31875876,  2.31527043,\n",
              "        2.30820858,  2.29739571,  2.29739571,  2.28630674,  2.2787536 ,\n",
              "        2.27106677,  2.25927525,  2.25527251,  2.25123253,  2.24715461,\n",
              "        2.23888209,  2.23044892,  2.22617012,  2.21263144,  2.20862048,\n",
              "        2.20366736,  2.1949766 ,  2.18657967,  2.1799346 ,  2.17512509,\n",
              "        2.16977237,  2.1618669 ,  2.15584191,  2.14921911,  2.14249375,\n",
              "        2.1383027 ,  2.13300636,  2.12818379,  2.12385164,  2.12112194,\n",
              "        2.11561051,  2.11171047,  2.10607752,  2.0992201 ,  2.09108047,\n",
              "        2.08931624,  2.08398013,  2.07797319,  2.07371835,  2.06694679,\n",
              "        2.06320822,  2.05753932,  2.05371852,  2.04727487,  2.04139269,\n",
              "        2.03809005,  2.03476211,  2.02666943,  2.01980839,  2.0135394 ,\n",
              "        2.00646604,  2.00144524,  1.99854993,  1.99048685,  1.98227123,\n",
              "        1.97619709,  1.97003678,  1.96378783,  1.95744765,  1.95101354,\n",
              "        1.94612462,  1.93951925,  1.93111871,  1.92514013,  1.91645395,\n",
              "        1.91115761,  1.90489579,  1.89854236,  1.89116563,  1.88081359,\n",
              "        1.87409509,  1.86530143,  1.85632602,  1.84613085,  1.8377988 ,\n",
              "        1.82930377,  1.82173182,  1.81291336,  1.80277373,  1.79122266,\n",
              "        1.78532984,  1.77451697,  1.76591679,  1.75714287,  1.74689356,\n",
              "        1.73904465,  1.72835378,  1.72153583,  1.71180723,  1.70185569,\n",
              "        1.69019608,  1.68124124,  1.66745295,  1.65481804,  1.64345268,\n",
              "        1.63008871,  1.6180481 ,  1.60923858,  1.59842571,  1.58546073,\n",
              "        1.57209677,  1.56229286,  1.54818461,  1.5378191 ,  1.52720012,\n",
              "        1.51631498,  1.50514998,  1.48902048,  1.47712125,  1.4648868 ,\n",
              "        1.45229767,  1.4366926 ,  1.42324587,  1.40936947,  1.39503502,\n",
              "        1.38321675,  1.36797679,  1.34895355,  1.3357921 ,  1.32565247,\n",
              "        1.31175386,  1.29739571,  1.28254659,  1.26324143,  1.25123253,\n",
              "        1.23468597,  1.2161659 ,  1.19957235,  1.18326984,  1.16780945,\n",
              "        1.14767632,  1.12979727,  1.11226977,  1.09342169,  1.07188201,\n",
              "        1.05563312,  1.03476211,  1.01911629,  0.99343623,  0.97158507,\n",
              "        0.95101354,  0.92941893,  0.90399383,  0.87794695,  0.84921461,\n",
              "        0.82282165,  0.7981901 ,  0.77329875,  0.74689356,  0.7187784 ,\n",
              "        0.69314046,  0.66432852,  0.63346846,  0.60386579,  0.57209677,\n",
              "        0.53991208,  0.50740606,  0.47470178,  0.43933269,  0.4008257 ,\n",
              "        0.36172784,  0.31875876,  0.2787536 ,  0.23468597,  0.18657967,\n",
              "        0.13619191,  0.08398013,  0.03005972, -0.0261028 , -0.08530433,\n",
              "       -0.14874165, -0.21704987, -0.29101287, -0.37331753, -0.46639739,\n",
              "       -0.5633074 , -0.68472957, -0.82681373, -1.0124827 , -1.32026935,\n",
              "       -4.76111791])"
            ]
          },
          "metadata": {
            "tags": []
          },
          "execution_count": 9
        }
      ]
    },
    {
      "cell_type": "code",
      "metadata": {
        "id": "f4SsKT7nv-XW",
        "colab": {
          "base_uri": "https://localhost:8080/",
          "height": 205
        },
        "outputId": "5dadd119-92ab-4df6-fa8e-9914d8389f1c"
      },
      "source": [
        "log_j = pd.DataFrame(log_j)\n",
        "log_j.columns = ['log_j']\n",
        "log_j.head()"
      ],
      "id": "f4SsKT7nv-XW",
      "execution_count": null,
      "outputs": [
        {
          "output_type": "execute_result",
          "data": {
            "text/html": [
              "<div>\n",
              "<style scoped>\n",
              "    .dataframe tbody tr th:only-of-type {\n",
              "        vertical-align: middle;\n",
              "    }\n",
              "\n",
              "    .dataframe tbody tr th {\n",
              "        vertical-align: top;\n",
              "    }\n",
              "\n",
              "    .dataframe thead th {\n",
              "        text-align: right;\n",
              "    }\n",
              "</style>\n",
              "<table border=\"1\" class=\"dataframe\">\n",
              "  <thead>\n",
              "    <tr style=\"text-align: right;\">\n",
              "      <th></th>\n",
              "      <th>log_j</th>\n",
              "    </tr>\n",
              "  </thead>\n",
              "  <tbody>\n",
              "    <tr>\n",
              "      <th>0</th>\n",
              "      <td>2.454845</td>\n",
              "    </tr>\n",
              "    <tr>\n",
              "      <th>1</th>\n",
              "      <td>2.444565</td>\n",
              "    </tr>\n",
              "    <tr>\n",
              "      <th>2</th>\n",
              "      <td>2.436693</td>\n",
              "    </tr>\n",
              "    <tr>\n",
              "      <th>3</th>\n",
              "      <td>2.434036</td>\n",
              "    </tr>\n",
              "    <tr>\n",
              "      <th>4</th>\n",
              "      <td>2.428675</td>\n",
              "    </tr>\n",
              "  </tbody>\n",
              "</table>\n",
              "</div>"
            ],
            "text/plain": [
              "      log_j\n",
              "0  2.454845\n",
              "1  2.444565\n",
              "2  2.436693\n",
              "3  2.434036\n",
              "4  2.428675"
            ]
          },
          "metadata": {
            "tags": []
          },
          "execution_count": 10
        }
      ]
    },
    {
      "cell_type": "code",
      "metadata": {
        "id": "291b9de4",
        "colab": {
          "base_uri": "https://localhost:8080/",
          "height": 205
        },
        "outputId": "b3c49c5a-0d7a-4128-a362-c05d00cd9439"
      },
      "source": [
        "J = pd.DataFrame(J)\n",
        "J.columns = ['J']\n",
        "J.head()"
      ],
      "id": "291b9de4",
      "execution_count": null,
      "outputs": [
        {
          "output_type": "execute_result",
          "data": {
            "text/html": [
              "<div>\n",
              "<style scoped>\n",
              "    .dataframe tbody tr th:only-of-type {\n",
              "        vertical-align: middle;\n",
              "    }\n",
              "\n",
              "    .dataframe tbody tr th {\n",
              "        vertical-align: top;\n",
              "    }\n",
              "\n",
              "    .dataframe thead th {\n",
              "        text-align: right;\n",
              "    }\n",
              "</style>\n",
              "<table border=\"1\" class=\"dataframe\">\n",
              "  <thead>\n",
              "    <tr style=\"text-align: right;\">\n",
              "      <th></th>\n",
              "      <th>J</th>\n",
              "    </tr>\n",
              "  </thead>\n",
              "  <tbody>\n",
              "    <tr>\n",
              "      <th>0</th>\n",
              "      <td>2.454845</td>\n",
              "    </tr>\n",
              "    <tr>\n",
              "      <th>1</th>\n",
              "      <td>2.444565</td>\n",
              "    </tr>\n",
              "    <tr>\n",
              "      <th>2</th>\n",
              "      <td>2.436693</td>\n",
              "    </tr>\n",
              "    <tr>\n",
              "      <th>3</th>\n",
              "      <td>2.434036</td>\n",
              "    </tr>\n",
              "    <tr>\n",
              "      <th>4</th>\n",
              "      <td>2.428675</td>\n",
              "    </tr>\n",
              "  </tbody>\n",
              "</table>\n",
              "</div>"
            ],
            "text/plain": [
              "          J\n",
              "0  2.454845\n",
              "1  2.444565\n",
              "2  2.436693\n",
              "3  2.434036\n",
              "4  2.428675"
            ]
          },
          "metadata": {
            "tags": []
          },
          "execution_count": 11
        }
      ]
    },
    {
      "cell_type": "code",
      "metadata": {
        "id": "128b6de8",
        "colab": {
          "base_uri": "https://localhost:8080/",
          "height": 422
        },
        "outputId": "a56267e0-5b17-407c-86d2-ac13f5b97a0f"
      },
      "source": [
        "task2=task.join(J,lsuffix=\"_left\")\n",
        "task2"
      ],
      "id": "128b6de8",
      "execution_count": null,
      "outputs": [
        {
          "output_type": "execute_result",
          "data": {
            "text/html": [
              "<div>\n",
              "<style scoped>\n",
              "    .dataframe tbody tr th:only-of-type {\n",
              "        vertical-align: middle;\n",
              "    }\n",
              "\n",
              "    .dataframe tbody tr th {\n",
              "        vertical-align: top;\n",
              "    }\n",
              "\n",
              "    .dataframe thead th {\n",
              "        text-align: right;\n",
              "    }\n",
              "</style>\n",
              "<table border=\"1\" class=\"dataframe\">\n",
              "  <thead>\n",
              "    <tr style=\"text-align: right;\">\n",
              "      <th></th>\n",
              "      <th>V</th>\n",
              "      <th>I</th>\n",
              "      <th>J</th>\n",
              "    </tr>\n",
              "  </thead>\n",
              "  <tbody>\n",
              "    <tr>\n",
              "      <th>0</th>\n",
              "      <td>4.00</td>\n",
              "      <td>1.710000e-03</td>\n",
              "      <td>2.454845</td>\n",
              "    </tr>\n",
              "    <tr>\n",
              "      <th>1</th>\n",
              "      <td>3.98</td>\n",
              "      <td>1.670000e-03</td>\n",
              "      <td>2.444565</td>\n",
              "    </tr>\n",
              "    <tr>\n",
              "      <th>2</th>\n",
              "      <td>3.96</td>\n",
              "      <td>1.640000e-03</td>\n",
              "      <td>2.436693</td>\n",
              "    </tr>\n",
              "    <tr>\n",
              "      <th>3</th>\n",
              "      <td>3.94</td>\n",
              "      <td>1.630000e-03</td>\n",
              "      <td>2.434036</td>\n",
              "    </tr>\n",
              "    <tr>\n",
              "      <th>4</th>\n",
              "      <td>3.92</td>\n",
              "      <td>1.610000e-03</td>\n",
              "      <td>2.428675</td>\n",
              "    </tr>\n",
              "    <tr>\n",
              "      <th>...</th>\n",
              "      <td>...</td>\n",
              "      <td>...</td>\n",
              "      <td>...</td>\n",
              "    </tr>\n",
              "    <tr>\n",
              "      <th>196</th>\n",
              "      <td>0.08</td>\n",
              "      <td>1.240000e-06</td>\n",
              "      <td>-0.684730</td>\n",
              "    </tr>\n",
              "    <tr>\n",
              "      <th>197</th>\n",
              "      <td>0.06</td>\n",
              "      <td>8.940000e-07</td>\n",
              "      <td>-0.826814</td>\n",
              "    </tr>\n",
              "    <tr>\n",
              "      <th>198</th>\n",
              "      <td>0.04</td>\n",
              "      <td>5.830000e-07</td>\n",
              "      <td>-1.012483</td>\n",
              "    </tr>\n",
              "    <tr>\n",
              "      <th>199</th>\n",
              "      <td>0.02</td>\n",
              "      <td>2.870000e-07</td>\n",
              "      <td>-1.320269</td>\n",
              "    </tr>\n",
              "    <tr>\n",
              "      <th>200</th>\n",
              "      <td>0.00</td>\n",
              "      <td>1.040000e-10</td>\n",
              "      <td>-4.761118</td>\n",
              "    </tr>\n",
              "  </tbody>\n",
              "</table>\n",
              "<p>201 rows × 3 columns</p>\n",
              "</div>"
            ],
            "text/plain": [
              "        V             I         J\n",
              "0    4.00  1.710000e-03  2.454845\n",
              "1    3.98  1.670000e-03  2.444565\n",
              "2    3.96  1.640000e-03  2.436693\n",
              "3    3.94  1.630000e-03  2.434036\n",
              "4    3.92  1.610000e-03  2.428675\n",
              "..    ...           ...       ...\n",
              "196  0.08  1.240000e-06 -0.684730\n",
              "197  0.06  8.940000e-07 -0.826814\n",
              "198  0.04  5.830000e-07 -1.012483\n",
              "199  0.02  2.870000e-07 -1.320269\n",
              "200  0.00  1.040000e-10 -4.761118\n",
              "\n",
              "[201 rows x 3 columns]"
            ]
          },
          "metadata": {
            "tags": []
          },
          "execution_count": 12
        }
      ]
    },
    {
      "cell_type": "code",
      "metadata": {
        "id": "d0bd1a02",
        "colab": {
          "base_uri": "https://localhost:8080/"
        },
        "outputId": "53c28246-5f14-48e2-82cc-f709071c731c"
      },
      "source": [
        "V=np.array(task['V'])\n",
        "V"
      ],
      "id": "d0bd1a02",
      "execution_count": null,
      "outputs": [
        {
          "output_type": "execute_result",
          "data": {
            "text/plain": [
              "array([4.  , 3.98, 3.96, 3.94, 3.92, 3.9 , 3.88, 3.86, 3.84, 3.82, 3.8 ,\n",
              "       3.78, 3.76, 3.74, 3.72, 3.7 , 3.68, 3.66, 3.64, 3.62, 3.6 , 3.58,\n",
              "       3.56, 3.54, 3.52, 3.5 , 3.48, 3.46, 3.44, 3.42, 3.4 , 3.38, 3.36,\n",
              "       3.34, 3.32, 3.3 , 3.28, 3.26, 3.24, 3.22, 3.2 , 3.18, 3.16, 3.14,\n",
              "       3.12, 3.1 , 3.08, 3.06, 3.04, 3.02, 3.  , 2.98, 2.96, 2.94, 2.92,\n",
              "       2.9 , 2.88, 2.86, 2.84, 2.82, 2.8 , 2.78, 2.76, 2.74, 2.72, 2.7 ,\n",
              "       2.68, 2.66, 2.64, 2.62, 2.6 , 2.58, 2.56, 2.54, 2.52, 2.5 , 2.48,\n",
              "       2.46, 2.44, 2.42, 2.4 , 2.38, 2.36, 2.34, 2.32, 2.3 , 2.28, 2.26,\n",
              "       2.24, 2.22, 2.2 , 2.18, 2.16, 2.14, 2.12, 2.1 , 2.08, 2.06, 2.04,\n",
              "       2.02, 2.  , 1.98, 1.96, 1.94, 1.92, 1.9 , 1.88, 1.86, 1.84, 1.82,\n",
              "       1.8 , 1.78, 1.76, 1.74, 1.72, 1.7 , 1.68, 1.66, 1.64, 1.62, 1.6 ,\n",
              "       1.58, 1.56, 1.54, 1.52, 1.5 , 1.48, 1.46, 1.44, 1.42, 1.4 , 1.38,\n",
              "       1.36, 1.34, 1.32, 1.3 , 1.28, 1.26, 1.24, 1.22, 1.2 , 1.18, 1.16,\n",
              "       1.14, 1.12, 1.1 , 1.08, 1.06, 1.04, 1.02, 1.  , 0.98, 0.96, 0.94,\n",
              "       0.92, 0.9 , 0.88, 0.86, 0.84, 0.82, 0.8 , 0.78, 0.76, 0.74, 0.72,\n",
              "       0.7 , 0.68, 0.66, 0.64, 0.62, 0.6 , 0.58, 0.56, 0.54, 0.52, 0.5 ,\n",
              "       0.48, 0.46, 0.44, 0.42, 0.4 , 0.38, 0.36, 0.34, 0.32, 0.3 , 0.28,\n",
              "       0.26, 0.24, 0.22, 0.2 , 0.18, 0.16, 0.14, 0.12, 0.1 , 0.08, 0.06,\n",
              "       0.04, 0.02, 0.  ])"
            ]
          },
          "metadata": {
            "tags": []
          },
          "execution_count": 13
        }
      ]
    },
    {
      "cell_type": "code",
      "metadata": {
        "id": "b64b2709",
        "colab": {
          "base_uri": "https://localhost:8080/"
        },
        "outputId": "853afdb5-a655-414f-a14b-d5cb7bd7defd"
      },
      "source": [
        "V_square = V**2\n",
        "V_square = np.array(V_square)\n",
        "V_square"
      ],
      "id": "b64b2709",
      "execution_count": null,
      "outputs": [
        {
          "output_type": "execute_result",
          "data": {
            "text/plain": [
              "array([1.60000e+01, 1.58404e+01, 1.56816e+01, 1.55236e+01, 1.53664e+01,\n",
              "       1.52100e+01, 1.50544e+01, 1.48996e+01, 1.47456e+01, 1.45924e+01,\n",
              "       1.44400e+01, 1.42884e+01, 1.41376e+01, 1.39876e+01, 1.38384e+01,\n",
              "       1.36900e+01, 1.35424e+01, 1.33956e+01, 1.32496e+01, 1.31044e+01,\n",
              "       1.29600e+01, 1.28164e+01, 1.26736e+01, 1.25316e+01, 1.23904e+01,\n",
              "       1.22500e+01, 1.21104e+01, 1.19716e+01, 1.18336e+01, 1.16964e+01,\n",
              "       1.15600e+01, 1.14244e+01, 1.12896e+01, 1.11556e+01, 1.10224e+01,\n",
              "       1.08900e+01, 1.07584e+01, 1.06276e+01, 1.04976e+01, 1.03684e+01,\n",
              "       1.02400e+01, 1.01124e+01, 9.98560e+00, 9.85960e+00, 9.73440e+00,\n",
              "       9.61000e+00, 9.48640e+00, 9.36360e+00, 9.24160e+00, 9.12040e+00,\n",
              "       9.00000e+00, 8.88040e+00, 8.76160e+00, 8.64360e+00, 8.52640e+00,\n",
              "       8.41000e+00, 8.29440e+00, 8.17960e+00, 8.06560e+00, 7.95240e+00,\n",
              "       7.84000e+00, 7.72840e+00, 7.61760e+00, 7.50760e+00, 7.39840e+00,\n",
              "       7.29000e+00, 7.18240e+00, 7.07560e+00, 6.96960e+00, 6.86440e+00,\n",
              "       6.76000e+00, 6.65640e+00, 6.55360e+00, 6.45160e+00, 6.35040e+00,\n",
              "       6.25000e+00, 6.15040e+00, 6.05160e+00, 5.95360e+00, 5.85640e+00,\n",
              "       5.76000e+00, 5.66440e+00, 5.56960e+00, 5.47560e+00, 5.38240e+00,\n",
              "       5.29000e+00, 5.19840e+00, 5.10760e+00, 5.01760e+00, 4.92840e+00,\n",
              "       4.84000e+00, 4.75240e+00, 4.66560e+00, 4.57960e+00, 4.49440e+00,\n",
              "       4.41000e+00, 4.32640e+00, 4.24360e+00, 4.16160e+00, 4.08040e+00,\n",
              "       4.00000e+00, 3.92040e+00, 3.84160e+00, 3.76360e+00, 3.68640e+00,\n",
              "       3.61000e+00, 3.53440e+00, 3.45960e+00, 3.38560e+00, 3.31240e+00,\n",
              "       3.24000e+00, 3.16840e+00, 3.09760e+00, 3.02760e+00, 2.95840e+00,\n",
              "       2.89000e+00, 2.82240e+00, 2.75560e+00, 2.68960e+00, 2.62440e+00,\n",
              "       2.56000e+00, 2.49640e+00, 2.43360e+00, 2.37160e+00, 2.31040e+00,\n",
              "       2.25000e+00, 2.19040e+00, 2.13160e+00, 2.07360e+00, 2.01640e+00,\n",
              "       1.96000e+00, 1.90440e+00, 1.84960e+00, 1.79560e+00, 1.74240e+00,\n",
              "       1.69000e+00, 1.63840e+00, 1.58760e+00, 1.53760e+00, 1.48840e+00,\n",
              "       1.44000e+00, 1.39240e+00, 1.34560e+00, 1.29960e+00, 1.25440e+00,\n",
              "       1.21000e+00, 1.16640e+00, 1.12360e+00, 1.08160e+00, 1.04040e+00,\n",
              "       1.00000e+00, 9.60400e-01, 9.21600e-01, 8.83600e-01, 8.46400e-01,\n",
              "       8.10000e-01, 7.74400e-01, 7.39600e-01, 7.05600e-01, 6.72400e-01,\n",
              "       6.40000e-01, 6.08400e-01, 5.77600e-01, 5.47600e-01, 5.18400e-01,\n",
              "       4.90000e-01, 4.62400e-01, 4.35600e-01, 4.09600e-01, 3.84400e-01,\n",
              "       3.60000e-01, 3.36400e-01, 3.13600e-01, 2.91600e-01, 2.70400e-01,\n",
              "       2.50000e-01, 2.30400e-01, 2.11600e-01, 1.93600e-01, 1.76400e-01,\n",
              "       1.60000e-01, 1.44400e-01, 1.29600e-01, 1.15600e-01, 1.02400e-01,\n",
              "       9.00000e-02, 7.84000e-02, 6.76000e-02, 5.76000e-02, 4.84000e-02,\n",
              "       4.00000e-02, 3.24000e-02, 2.56000e-02, 1.96000e-02, 1.44000e-02,\n",
              "       1.00000e-02, 6.40000e-03, 3.60000e-03, 1.60000e-03, 4.00000e-04,\n",
              "       0.00000e+00])"
            ]
          },
          "metadata": {
            "tags": []
          },
          "execution_count": 14
        }
      ]
    },
    {
      "cell_type": "code",
      "metadata": {
        "id": "25590b95",
        "colab": {
          "base_uri": "https://localhost:8080/",
          "height": 422
        },
        "outputId": "958e27d5-c326-45d3-ac1a-cb07bf4d0e3f"
      },
      "source": [
        "V_square=pd.DataFrame(V_square)\n",
        "V_square.columns = ['V_square']\n",
        "V_square"
      ],
      "id": "25590b95",
      "execution_count": null,
      "outputs": [
        {
          "output_type": "execute_result",
          "data": {
            "text/html": [
              "<div>\n",
              "<style scoped>\n",
              "    .dataframe tbody tr th:only-of-type {\n",
              "        vertical-align: middle;\n",
              "    }\n",
              "\n",
              "    .dataframe tbody tr th {\n",
              "        vertical-align: top;\n",
              "    }\n",
              "\n",
              "    .dataframe thead th {\n",
              "        text-align: right;\n",
              "    }\n",
              "</style>\n",
              "<table border=\"1\" class=\"dataframe\">\n",
              "  <thead>\n",
              "    <tr style=\"text-align: right;\">\n",
              "      <th></th>\n",
              "      <th>V_square</th>\n",
              "    </tr>\n",
              "  </thead>\n",
              "  <tbody>\n",
              "    <tr>\n",
              "      <th>0</th>\n",
              "      <td>16.0000</td>\n",
              "    </tr>\n",
              "    <tr>\n",
              "      <th>1</th>\n",
              "      <td>15.8404</td>\n",
              "    </tr>\n",
              "    <tr>\n",
              "      <th>2</th>\n",
              "      <td>15.6816</td>\n",
              "    </tr>\n",
              "    <tr>\n",
              "      <th>3</th>\n",
              "      <td>15.5236</td>\n",
              "    </tr>\n",
              "    <tr>\n",
              "      <th>4</th>\n",
              "      <td>15.3664</td>\n",
              "    </tr>\n",
              "    <tr>\n",
              "      <th>...</th>\n",
              "      <td>...</td>\n",
              "    </tr>\n",
              "    <tr>\n",
              "      <th>196</th>\n",
              "      <td>0.0064</td>\n",
              "    </tr>\n",
              "    <tr>\n",
              "      <th>197</th>\n",
              "      <td>0.0036</td>\n",
              "    </tr>\n",
              "    <tr>\n",
              "      <th>198</th>\n",
              "      <td>0.0016</td>\n",
              "    </tr>\n",
              "    <tr>\n",
              "      <th>199</th>\n",
              "      <td>0.0004</td>\n",
              "    </tr>\n",
              "    <tr>\n",
              "      <th>200</th>\n",
              "      <td>0.0000</td>\n",
              "    </tr>\n",
              "  </tbody>\n",
              "</table>\n",
              "<p>201 rows × 1 columns</p>\n",
              "</div>"
            ],
            "text/plain": [
              "     V_square\n",
              "0     16.0000\n",
              "1     15.8404\n",
              "2     15.6816\n",
              "3     15.5236\n",
              "4     15.3664\n",
              "..        ...\n",
              "196    0.0064\n",
              "197    0.0036\n",
              "198    0.0016\n",
              "199    0.0004\n",
              "200    0.0000\n",
              "\n",
              "[201 rows x 1 columns]"
            ]
          },
          "metadata": {
            "tags": []
          },
          "execution_count": 15
        }
      ]
    },
    {
      "cell_type": "code",
      "metadata": {
        "id": "f42c4a0c",
        "colab": {
          "base_uri": "https://localhost:8080/",
          "height": 422
        },
        "outputId": "99ae7644-1612-4db6-fcac-8b3ad83aa16d"
      },
      "source": [
        "task3 =task2.join(V_square,lsuffix=\"_left\")\n",
        "task3"
      ],
      "id": "f42c4a0c",
      "execution_count": null,
      "outputs": [
        {
          "output_type": "execute_result",
          "data": {
            "text/html": [
              "<div>\n",
              "<style scoped>\n",
              "    .dataframe tbody tr th:only-of-type {\n",
              "        vertical-align: middle;\n",
              "    }\n",
              "\n",
              "    .dataframe tbody tr th {\n",
              "        vertical-align: top;\n",
              "    }\n",
              "\n",
              "    .dataframe thead th {\n",
              "        text-align: right;\n",
              "    }\n",
              "</style>\n",
              "<table border=\"1\" class=\"dataframe\">\n",
              "  <thead>\n",
              "    <tr style=\"text-align: right;\">\n",
              "      <th></th>\n",
              "      <th>V</th>\n",
              "      <th>I</th>\n",
              "      <th>J</th>\n",
              "      <th>V_square</th>\n",
              "    </tr>\n",
              "  </thead>\n",
              "  <tbody>\n",
              "    <tr>\n",
              "      <th>0</th>\n",
              "      <td>4.00</td>\n",
              "      <td>1.710000e-03</td>\n",
              "      <td>2.454845</td>\n",
              "      <td>16.0000</td>\n",
              "    </tr>\n",
              "    <tr>\n",
              "      <th>1</th>\n",
              "      <td>3.98</td>\n",
              "      <td>1.670000e-03</td>\n",
              "      <td>2.444565</td>\n",
              "      <td>15.8404</td>\n",
              "    </tr>\n",
              "    <tr>\n",
              "      <th>2</th>\n",
              "      <td>3.96</td>\n",
              "      <td>1.640000e-03</td>\n",
              "      <td>2.436693</td>\n",
              "      <td>15.6816</td>\n",
              "    </tr>\n",
              "    <tr>\n",
              "      <th>3</th>\n",
              "      <td>3.94</td>\n",
              "      <td>1.630000e-03</td>\n",
              "      <td>2.434036</td>\n",
              "      <td>15.5236</td>\n",
              "    </tr>\n",
              "    <tr>\n",
              "      <th>4</th>\n",
              "      <td>3.92</td>\n",
              "      <td>1.610000e-03</td>\n",
              "      <td>2.428675</td>\n",
              "      <td>15.3664</td>\n",
              "    </tr>\n",
              "    <tr>\n",
              "      <th>...</th>\n",
              "      <td>...</td>\n",
              "      <td>...</td>\n",
              "      <td>...</td>\n",
              "      <td>...</td>\n",
              "    </tr>\n",
              "    <tr>\n",
              "      <th>196</th>\n",
              "      <td>0.08</td>\n",
              "      <td>1.240000e-06</td>\n",
              "      <td>-0.684730</td>\n",
              "      <td>0.0064</td>\n",
              "    </tr>\n",
              "    <tr>\n",
              "      <th>197</th>\n",
              "      <td>0.06</td>\n",
              "      <td>8.940000e-07</td>\n",
              "      <td>-0.826814</td>\n",
              "      <td>0.0036</td>\n",
              "    </tr>\n",
              "    <tr>\n",
              "      <th>198</th>\n",
              "      <td>0.04</td>\n",
              "      <td>5.830000e-07</td>\n",
              "      <td>-1.012483</td>\n",
              "      <td>0.0016</td>\n",
              "    </tr>\n",
              "    <tr>\n",
              "      <th>199</th>\n",
              "      <td>0.02</td>\n",
              "      <td>2.870000e-07</td>\n",
              "      <td>-1.320269</td>\n",
              "      <td>0.0004</td>\n",
              "    </tr>\n",
              "    <tr>\n",
              "      <th>200</th>\n",
              "      <td>0.00</td>\n",
              "      <td>1.040000e-10</td>\n",
              "      <td>-4.761118</td>\n",
              "      <td>0.0000</td>\n",
              "    </tr>\n",
              "  </tbody>\n",
              "</table>\n",
              "<p>201 rows × 4 columns</p>\n",
              "</div>"
            ],
            "text/plain": [
              "        V             I         J  V_square\n",
              "0    4.00  1.710000e-03  2.454845   16.0000\n",
              "1    3.98  1.670000e-03  2.444565   15.8404\n",
              "2    3.96  1.640000e-03  2.436693   15.6816\n",
              "3    3.94  1.630000e-03  2.434036   15.5236\n",
              "4    3.92  1.610000e-03  2.428675   15.3664\n",
              "..    ...           ...       ...       ...\n",
              "196  0.08  1.240000e-06 -0.684730    0.0064\n",
              "197  0.06  8.940000e-07 -0.826814    0.0036\n",
              "198  0.04  5.830000e-07 -1.012483    0.0016\n",
              "199  0.02  2.870000e-07 -1.320269    0.0004\n",
              "200  0.00  1.040000e-10 -4.761118    0.0000\n",
              "\n",
              "[201 rows x 4 columns]"
            ]
          },
          "metadata": {
            "tags": []
          },
          "execution_count": 16
        }
      ]
    },
    {
      "cell_type": "code",
      "metadata": {
        "id": "26d933be",
        "colab": {
          "base_uri": "https://localhost:8080/"
        },
        "outputId": "51abf829-d014-4614-bdeb-4367c0c9c15b"
      },
      "source": [
        "log_v = np.log10(V, out=V, where=V> 0)\n",
        "log_v"
      ],
      "id": "26d933be",
      "execution_count": null,
      "outputs": [
        {
          "output_type": "execute_result",
          "data": {
            "text/plain": [
              "array([ 0.60205999,  0.59988307,  0.59769519,  0.59549622,  0.59328607,\n",
              "        0.59106461,  0.58883173,  0.5865873 ,  0.58433122,  0.58206336,\n",
              "        0.5797836 ,  0.5774918 ,  0.57518784,  0.5728716 ,  0.57054294,\n",
              "        0.56820172,  0.56584782,  0.56348109,  0.56110138,  0.55870857,\n",
              "        0.5563025 ,  0.55388303,  0.55145   ,  0.54900326,  0.54654266,\n",
              "        0.54406804,  0.54157924,  0.5390761 ,  0.53655844,  0.53402611,\n",
              "        0.53147892,  0.5289167 ,  0.52633928,  0.52374647,  0.52113808,\n",
              "        0.51851394,  0.51587384,  0.5132176 ,  0.51054501,  0.50785587,\n",
              "        0.50514998,  0.50242712,  0.49968708,  0.49692965,  0.49415459,\n",
              "        0.49136169,  0.48855072,  0.48572143,  0.48287358,  0.48000694,\n",
              "        0.47712125,  0.47421626,  0.47129171,  0.46834733,  0.46538285,\n",
              "        0.462398  ,  0.45939249,  0.45636603,  0.45331834,  0.45024911,\n",
              "        0.44715803,  0.4440448 ,  0.44090908,  0.43775056,  0.4345689 ,\n",
              "        0.43136376,  0.42813479,  0.42488164,  0.42160393,  0.41830129,\n",
              "        0.41497335,  0.41161971,  0.40823997,  0.40483372,  0.40140054,\n",
              "        0.39794001,  0.39445168,  0.39093511,  0.38738983,  0.38381537,\n",
              "        0.38021124,  0.37657696,  0.372912  ,  0.36921586,  0.36548798,\n",
              "        0.36172784,  0.35793485,  0.35410844,  0.35024802,  0.34635297,\n",
              "        0.34242268,  0.33845649,  0.33445375,  0.33041377,  0.32633586,\n",
              "        0.32221929,  0.31806333,  0.31386722,  0.30963017,  0.30535137,\n",
              "        0.30103   ,  0.29666519,  0.29225607,  0.28780173,  0.28330123,\n",
              "        0.2787536 ,  0.27415785,  0.26951294,  0.26481782,  0.26007139,\n",
              "        0.25527251,  0.25042   ,  0.24551267,  0.24054925,  0.23552845,\n",
              "        0.23044892,  0.22530928,  0.22010809,  0.21484385,  0.20951501,\n",
              "        0.20411998,  0.19865709,  0.1931246 ,  0.18752072,  0.18184359,\n",
              "        0.17609126,  0.17026172,  0.16435286,  0.15836249,  0.15228834,\n",
              "        0.14612804,  0.13987909,  0.13353891,  0.1271048 ,  0.12057393,\n",
              "        0.11394335,  0.10720997,  0.10037055,  0.09342169,  0.08635983,\n",
              "        0.07918125,  0.07188201,  0.06445799,  0.05690485,  0.04921802,\n",
              "        0.04139269,  0.03342376,  0.02530587,  0.01703334,  0.00860017,\n",
              "        0.        , -0.00877392, -0.01772877, -0.02687215, -0.03621217,\n",
              "       -0.04575749, -0.05551733, -0.06550155, -0.07572071, -0.08618615,\n",
              "       -0.09691001, -0.1079054 , -0.11918641, -0.13076828, -0.1426675 ,\n",
              "       -0.15490196, -0.16749109, -0.18045606, -0.19382003, -0.20760831,\n",
              "       -0.22184875, -0.23657201, -0.25181197, -0.26760624, -0.28399666,\n",
              "       -0.30103   , -0.31875876, -0.33724217, -0.35654732, -0.37675071,\n",
              "       -0.39794001, -0.4202164 , -0.4436975 , -0.46852108, -0.49485002,\n",
              "       -0.52287875, -0.55284197, -0.58502665, -0.61978876, -0.65757732,\n",
              "       -0.69897   , -0.74472749, -0.79588002, -0.85387196, -0.92081875,\n",
              "       -1.        , -1.09691001, -1.22184875, -1.39794001, -1.69897   ,\n",
              "        0.        ])"
            ]
          },
          "metadata": {
            "tags": []
          },
          "execution_count": 17
        }
      ]
    },
    {
      "cell_type": "code",
      "metadata": {
        "id": "cb99e4ea",
        "colab": {
          "base_uri": "https://localhost:8080/",
          "height": 422
        },
        "outputId": "cfbd9697-ce15-41ca-8d0f-a603c045eba1"
      },
      "source": [
        "log_v=pd.DataFrame(log_v)\n",
        "log_v.columns = ['log_v']\n",
        "log_v"
      ],
      "id": "cb99e4ea",
      "execution_count": null,
      "outputs": [
        {
          "output_type": "execute_result",
          "data": {
            "text/html": [
              "<div>\n",
              "<style scoped>\n",
              "    .dataframe tbody tr th:only-of-type {\n",
              "        vertical-align: middle;\n",
              "    }\n",
              "\n",
              "    .dataframe tbody tr th {\n",
              "        vertical-align: top;\n",
              "    }\n",
              "\n",
              "    .dataframe thead th {\n",
              "        text-align: right;\n",
              "    }\n",
              "</style>\n",
              "<table border=\"1\" class=\"dataframe\">\n",
              "  <thead>\n",
              "    <tr style=\"text-align: right;\">\n",
              "      <th></th>\n",
              "      <th>log_v</th>\n",
              "    </tr>\n",
              "  </thead>\n",
              "  <tbody>\n",
              "    <tr>\n",
              "      <th>0</th>\n",
              "      <td>0.602060</td>\n",
              "    </tr>\n",
              "    <tr>\n",
              "      <th>1</th>\n",
              "      <td>0.599883</td>\n",
              "    </tr>\n",
              "    <tr>\n",
              "      <th>2</th>\n",
              "      <td>0.597695</td>\n",
              "    </tr>\n",
              "    <tr>\n",
              "      <th>3</th>\n",
              "      <td>0.595496</td>\n",
              "    </tr>\n",
              "    <tr>\n",
              "      <th>4</th>\n",
              "      <td>0.593286</td>\n",
              "    </tr>\n",
              "    <tr>\n",
              "      <th>...</th>\n",
              "      <td>...</td>\n",
              "    </tr>\n",
              "    <tr>\n",
              "      <th>196</th>\n",
              "      <td>-1.096910</td>\n",
              "    </tr>\n",
              "    <tr>\n",
              "      <th>197</th>\n",
              "      <td>-1.221849</td>\n",
              "    </tr>\n",
              "    <tr>\n",
              "      <th>198</th>\n",
              "      <td>-1.397940</td>\n",
              "    </tr>\n",
              "    <tr>\n",
              "      <th>199</th>\n",
              "      <td>-1.698970</td>\n",
              "    </tr>\n",
              "    <tr>\n",
              "      <th>200</th>\n",
              "      <td>0.000000</td>\n",
              "    </tr>\n",
              "  </tbody>\n",
              "</table>\n",
              "<p>201 rows × 1 columns</p>\n",
              "</div>"
            ],
            "text/plain": [
              "        log_v\n",
              "0    0.602060\n",
              "1    0.599883\n",
              "2    0.597695\n",
              "3    0.595496\n",
              "4    0.593286\n",
              "..        ...\n",
              "196 -1.096910\n",
              "197 -1.221849\n",
              "198 -1.397940\n",
              "199 -1.698970\n",
              "200  0.000000\n",
              "\n",
              "[201 rows x 1 columns]"
            ]
          },
          "metadata": {
            "tags": []
          },
          "execution_count": 18
        }
      ]
    },
    {
      "cell_type": "code",
      "metadata": {
        "id": "77b392b8",
        "colab": {
          "base_uri": "https://localhost:8080/",
          "height": 422
        },
        "outputId": "dc06329b-0e7b-4623-be0a-ecbebcfb068c"
      },
      "source": [
        "task4 =task3.join(log_v,lsuffix=\"_left\")\n",
        "task4"
      ],
      "id": "77b392b8",
      "execution_count": null,
      "outputs": [
        {
          "output_type": "execute_result",
          "data": {
            "text/html": [
              "<div>\n",
              "<style scoped>\n",
              "    .dataframe tbody tr th:only-of-type {\n",
              "        vertical-align: middle;\n",
              "    }\n",
              "\n",
              "    .dataframe tbody tr th {\n",
              "        vertical-align: top;\n",
              "    }\n",
              "\n",
              "    .dataframe thead th {\n",
              "        text-align: right;\n",
              "    }\n",
              "</style>\n",
              "<table border=\"1\" class=\"dataframe\">\n",
              "  <thead>\n",
              "    <tr style=\"text-align: right;\">\n",
              "      <th></th>\n",
              "      <th>V</th>\n",
              "      <th>I</th>\n",
              "      <th>J</th>\n",
              "      <th>V_square</th>\n",
              "      <th>log_v</th>\n",
              "    </tr>\n",
              "  </thead>\n",
              "  <tbody>\n",
              "    <tr>\n",
              "      <th>0</th>\n",
              "      <td>4.00</td>\n",
              "      <td>1.710000e-03</td>\n",
              "      <td>2.454845</td>\n",
              "      <td>16.0000</td>\n",
              "      <td>0.602060</td>\n",
              "    </tr>\n",
              "    <tr>\n",
              "      <th>1</th>\n",
              "      <td>3.98</td>\n",
              "      <td>1.670000e-03</td>\n",
              "      <td>2.444565</td>\n",
              "      <td>15.8404</td>\n",
              "      <td>0.599883</td>\n",
              "    </tr>\n",
              "    <tr>\n",
              "      <th>2</th>\n",
              "      <td>3.96</td>\n",
              "      <td>1.640000e-03</td>\n",
              "      <td>2.436693</td>\n",
              "      <td>15.6816</td>\n",
              "      <td>0.597695</td>\n",
              "    </tr>\n",
              "    <tr>\n",
              "      <th>3</th>\n",
              "      <td>3.94</td>\n",
              "      <td>1.630000e-03</td>\n",
              "      <td>2.434036</td>\n",
              "      <td>15.5236</td>\n",
              "      <td>0.595496</td>\n",
              "    </tr>\n",
              "    <tr>\n",
              "      <th>4</th>\n",
              "      <td>3.92</td>\n",
              "      <td>1.610000e-03</td>\n",
              "      <td>2.428675</td>\n",
              "      <td>15.3664</td>\n",
              "      <td>0.593286</td>\n",
              "    </tr>\n",
              "    <tr>\n",
              "      <th>...</th>\n",
              "      <td>...</td>\n",
              "      <td>...</td>\n",
              "      <td>...</td>\n",
              "      <td>...</td>\n",
              "      <td>...</td>\n",
              "    </tr>\n",
              "    <tr>\n",
              "      <th>196</th>\n",
              "      <td>0.08</td>\n",
              "      <td>1.240000e-06</td>\n",
              "      <td>-0.684730</td>\n",
              "      <td>0.0064</td>\n",
              "      <td>-1.096910</td>\n",
              "    </tr>\n",
              "    <tr>\n",
              "      <th>197</th>\n",
              "      <td>0.06</td>\n",
              "      <td>8.940000e-07</td>\n",
              "      <td>-0.826814</td>\n",
              "      <td>0.0036</td>\n",
              "      <td>-1.221849</td>\n",
              "    </tr>\n",
              "    <tr>\n",
              "      <th>198</th>\n",
              "      <td>0.04</td>\n",
              "      <td>5.830000e-07</td>\n",
              "      <td>-1.012483</td>\n",
              "      <td>0.0016</td>\n",
              "      <td>-1.397940</td>\n",
              "    </tr>\n",
              "    <tr>\n",
              "      <th>199</th>\n",
              "      <td>0.02</td>\n",
              "      <td>2.870000e-07</td>\n",
              "      <td>-1.320269</td>\n",
              "      <td>0.0004</td>\n",
              "      <td>-1.698970</td>\n",
              "    </tr>\n",
              "    <tr>\n",
              "      <th>200</th>\n",
              "      <td>0.00</td>\n",
              "      <td>1.040000e-10</td>\n",
              "      <td>-4.761118</td>\n",
              "      <td>0.0000</td>\n",
              "      <td>0.000000</td>\n",
              "    </tr>\n",
              "  </tbody>\n",
              "</table>\n",
              "<p>201 rows × 5 columns</p>\n",
              "</div>"
            ],
            "text/plain": [
              "        V             I         J  V_square     log_v\n",
              "0    4.00  1.710000e-03  2.454845   16.0000  0.602060\n",
              "1    3.98  1.670000e-03  2.444565   15.8404  0.599883\n",
              "2    3.96  1.640000e-03  2.436693   15.6816  0.597695\n",
              "3    3.94  1.630000e-03  2.434036   15.5236  0.595496\n",
              "4    3.92  1.610000e-03  2.428675   15.3664  0.593286\n",
              "..    ...           ...       ...       ...       ...\n",
              "196  0.08  1.240000e-06 -0.684730    0.0064 -1.096910\n",
              "197  0.06  8.940000e-07 -0.826814    0.0036 -1.221849\n",
              "198  0.04  5.830000e-07 -1.012483    0.0016 -1.397940\n",
              "199  0.02  2.870000e-07 -1.320269    0.0004 -1.698970\n",
              "200  0.00  1.040000e-10 -4.761118    0.0000  0.000000\n",
              "\n",
              "[201 rows x 5 columns]"
            ]
          },
          "metadata": {
            "tags": []
          },
          "execution_count": 19
        }
      ]
    },
    {
      "cell_type": "code",
      "metadata": {
        "id": "3f35f779",
        "colab": {
          "base_uri": "https://localhost:8080/",
          "height": 422
        },
        "outputId": "80081dbf-7c35-48fc-c21d-6788998791e6"
      },
      "source": [
        "task5 =task4.join(log_j,lsuffix=\"_left\")\n",
        "task5"
      ],
      "id": "3f35f779",
      "execution_count": null,
      "outputs": [
        {
          "output_type": "execute_result",
          "data": {
            "text/html": [
              "<div>\n",
              "<style scoped>\n",
              "    .dataframe tbody tr th:only-of-type {\n",
              "        vertical-align: middle;\n",
              "    }\n",
              "\n",
              "    .dataframe tbody tr th {\n",
              "        vertical-align: top;\n",
              "    }\n",
              "\n",
              "    .dataframe thead th {\n",
              "        text-align: right;\n",
              "    }\n",
              "</style>\n",
              "<table border=\"1\" class=\"dataframe\">\n",
              "  <thead>\n",
              "    <tr style=\"text-align: right;\">\n",
              "      <th></th>\n",
              "      <th>V</th>\n",
              "      <th>I</th>\n",
              "      <th>J</th>\n",
              "      <th>V_square</th>\n",
              "      <th>log_v</th>\n",
              "      <th>log_j</th>\n",
              "    </tr>\n",
              "  </thead>\n",
              "  <tbody>\n",
              "    <tr>\n",
              "      <th>0</th>\n",
              "      <td>4.00</td>\n",
              "      <td>1.710000e-03</td>\n",
              "      <td>2.454845</td>\n",
              "      <td>16.0000</td>\n",
              "      <td>0.602060</td>\n",
              "      <td>2.454845</td>\n",
              "    </tr>\n",
              "    <tr>\n",
              "      <th>1</th>\n",
              "      <td>3.98</td>\n",
              "      <td>1.670000e-03</td>\n",
              "      <td>2.444565</td>\n",
              "      <td>15.8404</td>\n",
              "      <td>0.599883</td>\n",
              "      <td>2.444565</td>\n",
              "    </tr>\n",
              "    <tr>\n",
              "      <th>2</th>\n",
              "      <td>3.96</td>\n",
              "      <td>1.640000e-03</td>\n",
              "      <td>2.436693</td>\n",
              "      <td>15.6816</td>\n",
              "      <td>0.597695</td>\n",
              "      <td>2.436693</td>\n",
              "    </tr>\n",
              "    <tr>\n",
              "      <th>3</th>\n",
              "      <td>3.94</td>\n",
              "      <td>1.630000e-03</td>\n",
              "      <td>2.434036</td>\n",
              "      <td>15.5236</td>\n",
              "      <td>0.595496</td>\n",
              "      <td>2.434036</td>\n",
              "    </tr>\n",
              "    <tr>\n",
              "      <th>4</th>\n",
              "      <td>3.92</td>\n",
              "      <td>1.610000e-03</td>\n",
              "      <td>2.428675</td>\n",
              "      <td>15.3664</td>\n",
              "      <td>0.593286</td>\n",
              "      <td>2.428675</td>\n",
              "    </tr>\n",
              "    <tr>\n",
              "      <th>...</th>\n",
              "      <td>...</td>\n",
              "      <td>...</td>\n",
              "      <td>...</td>\n",
              "      <td>...</td>\n",
              "      <td>...</td>\n",
              "      <td>...</td>\n",
              "    </tr>\n",
              "    <tr>\n",
              "      <th>196</th>\n",
              "      <td>0.08</td>\n",
              "      <td>1.240000e-06</td>\n",
              "      <td>-0.684730</td>\n",
              "      <td>0.0064</td>\n",
              "      <td>-1.096910</td>\n",
              "      <td>-0.684730</td>\n",
              "    </tr>\n",
              "    <tr>\n",
              "      <th>197</th>\n",
              "      <td>0.06</td>\n",
              "      <td>8.940000e-07</td>\n",
              "      <td>-0.826814</td>\n",
              "      <td>0.0036</td>\n",
              "      <td>-1.221849</td>\n",
              "      <td>-0.826814</td>\n",
              "    </tr>\n",
              "    <tr>\n",
              "      <th>198</th>\n",
              "      <td>0.04</td>\n",
              "      <td>5.830000e-07</td>\n",
              "      <td>-1.012483</td>\n",
              "      <td>0.0016</td>\n",
              "      <td>-1.397940</td>\n",
              "      <td>-1.012483</td>\n",
              "    </tr>\n",
              "    <tr>\n",
              "      <th>199</th>\n",
              "      <td>0.02</td>\n",
              "      <td>2.870000e-07</td>\n",
              "      <td>-1.320269</td>\n",
              "      <td>0.0004</td>\n",
              "      <td>-1.698970</td>\n",
              "      <td>-1.320269</td>\n",
              "    </tr>\n",
              "    <tr>\n",
              "      <th>200</th>\n",
              "      <td>0.00</td>\n",
              "      <td>1.040000e-10</td>\n",
              "      <td>-4.761118</td>\n",
              "      <td>0.0000</td>\n",
              "      <td>0.000000</td>\n",
              "      <td>-4.761118</td>\n",
              "    </tr>\n",
              "  </tbody>\n",
              "</table>\n",
              "<p>201 rows × 6 columns</p>\n",
              "</div>"
            ],
            "text/plain": [
              "        V             I         J  V_square     log_v     log_j\n",
              "0    4.00  1.710000e-03  2.454845   16.0000  0.602060  2.454845\n",
              "1    3.98  1.670000e-03  2.444565   15.8404  0.599883  2.444565\n",
              "2    3.96  1.640000e-03  2.436693   15.6816  0.597695  2.436693\n",
              "3    3.94  1.630000e-03  2.434036   15.5236  0.595496  2.434036\n",
              "4    3.92  1.610000e-03  2.428675   15.3664  0.593286  2.428675\n",
              "..    ...           ...       ...       ...       ...       ...\n",
              "196  0.08  1.240000e-06 -0.684730    0.0064 -1.096910 -0.684730\n",
              "197  0.06  8.940000e-07 -0.826814    0.0036 -1.221849 -0.826814\n",
              "198  0.04  5.830000e-07 -1.012483    0.0016 -1.397940 -1.012483\n",
              "199  0.02  2.870000e-07 -1.320269    0.0004 -1.698970 -1.320269\n",
              "200  0.00  1.040000e-10 -4.761118    0.0000  0.000000 -4.761118\n",
              "\n",
              "[201 rows x 6 columns]"
            ]
          },
          "metadata": {
            "tags": []
          },
          "execution_count": 20
        }
      ]
    },
    {
      "cell_type": "code",
      "metadata": {
        "id": "96b67fec"
      },
      "source": [
        "%matplotlib inline\n",
        "import matplotlib.pyplot as plt\n",
        "from sklearn.metrics import r2_score\n",
        "from scipy.stats import linregress"
      ],
      "id": "96b67fec",
      "execution_count": null,
      "outputs": []
    },
    {
      "cell_type": "code",
      "metadata": {
        "id": "082c9d66",
        "colab": {
          "base_uri": "https://localhost:8080/",
          "height": 295
        },
        "outputId": "a5864b8d-5e29-4398-9427-435d6f148768"
      },
      "source": [
        "x = np.array(J)\n",
        "x = x.flatten()\n",
        "y = np.array(V_square)\n",
        "y = y.flatten()\n",
        "plt.scatter(x,y,color =\"orange\")\n",
        "plt.xlabel(\"J\")\n",
        "plt.ylabel(\"V_square\")\n",
        "plt.title(\"J & V_square\")\n",
        "plt.grid()\n",
        "coeff= np.polyfit(x, y, 1)\n",
        "np.array(coeff)\n",
        "z=coeff.flatten()\n",
        "p = np.poly1d(z)\n",
        "plt.plot(x,p(x),\"r--\")\n",
        "correlation_matrix = np.corrcoef(x, y)\n",
        "correlation_xy = correlation_matrix[0,1]\n",
        "r_squared = correlation_xy**2\n",
        "\n",
        "\n",
        "slope, intercept, r_value, p_value, std_err = linregress(x,y)\n",
        "plt.text(-4, 10,'y = %.5sx + %.5s'% (slope,intercept), fontsize = 12)\n",
        "plt.text(-4,8, 'R^2 = %.5s'% (r_squared), fontsize = 12)\n",
        "plt.show()\n"
      ],
      "id": "082c9d66",
      "execution_count": null,
      "outputs": [
        {
          "output_type": "display_data",
          "data": {
            "image/png": "[encoded data removed]",
            "text/plain": [
              "<Figure size 432x288 with 1 Axes>"
            ]
          },
          "metadata": {
            "tags": [],
            "needs_background": "light"
          }
        }
      ]
    },
    {
      "cell_type": "code",
      "metadata": {
        "id": "09e3081b",
        "colab": {
          "base_uri": "https://localhost:8080/",
          "height": 313
        },
        "outputId": "c6697ebd-9a20-452d-e577-0ea8777a23b3"
      },
      "source": [
        "x = np.array(V)\n",
        "x = x.flatten()\n",
        "y = np.array(J)\n",
        "y = y.flatten()\n",
        "plt.scatter(x,y,color=\"blue\")\n",
        "plt.xlabel(\"V\")\n",
        "plt.ylabel(\"J\")\n",
        "plt.title(\"J & V\")\n",
        "plt.grid()\n",
        "\n",
        "coeff= np.polyfit(x, y, 1)\n",
        "np.array(coeff)\n",
        "z=coeff.flatten()\n",
        "p = np.poly1d(z)\n",
        "plt.plot(x,p(x),\"r--\")\n",
        "correlation_matrix = np.corrcoef(x, y)\n",
        "correlation_xy = correlation_matrix[0,1]\n",
        "\n",
        "print(correlation_xy)\n",
        "r_squared = correlation_xy**2\n",
        "\n",
        "slope, intercept, r_value, p_value, std_err = linregress(x,y)\n",
        "\n",
        "plt.text(-1,2, 'y= %.5sx + %.5s' % (slope,intercept))\n",
        "plt.text(-1,1, 'R^2 = %.5s'% (r_squared))\n",
        "plt.show()"
      ],
      "id": "09e3081b",
      "execution_count": null,
      "outputs": [
        {
          "output_type": "stream",
          "text": [
            "0.8794607108984884\n"
          ],
          "name": "stdout"
        },
        {
          "output_type": "display_data",
          "data": {
            "image/png": "[encoded data removed]",
            "text/plain": [
              "<Figure size 432x288 with 1 Axes>"
            ]
          },
          "metadata": {
            "tags": [],
            "needs_background": "light"
          }
        }
      ]
    },
    {
      "cell_type": "code",
      "metadata": {
        "id": "zyUDVlR2MSv9"
      },
      "source": [
        ""
      ],
      "id": "zyUDVlR2MSv9",
      "execution_count": null,
      "outputs": []
    },
    {
      "cell_type": "code",
      "metadata": {
        "id": "bb3a46fe",
        "colab": {
          "base_uri": "https://localhost:8080/",
          "height": 296
        },
        "outputId": "5e8f3a26-3e65-47b5-97eb-4925b24317b4"
      },
      "source": [
        "x = np.array(log_j)\n",
        "x = x.flatten()\n",
        "y = np.array(log_v)\n",
        "y = y.flatten()\n",
        "plt.scatter(x,y,color=\"blue\")\n",
        "plt.xlabel(\"log_j\")\n",
        "plt.ylabel(\"log_v\")\n",
        "plt.title(\"log_j & log_v\")\n",
        "plt.grid()\n",
        "\n",
        "coeff= np.polyfit(x, y, 1)\n",
        "np.array(coeff)\n",
        "z=coeff.flatten()\n",
        "p = np.poly1d(z)\n",
        "plt.plot(x,p(x),\"r--\")\n",
        "correlation_matrix = np.corrcoef(x, y)\n",
        "correlation_xy = correlation_matrix[0,1]\n",
        "r_squared = correlation_xy**2\n",
        "\n",
        "slope, intercept, r_value, p_value, std_err = linregress(x,y)\n",
        "\n",
        "plt.text(-3,-0.25, 'y= %.5sx + %.5s' % (slope,intercept))\n",
        "plt.text(-3,-0.5, 'R^2 = %.5s'% (r_squared))\n",
        "plt.show()"
      ],
      "id": "bb3a46fe",
      "execution_count": null,
      "outputs": [
        {
          "output_type": "display_data",
          "data": {
            "image/png": "[encoded data removed]",
            "text/plain": [
              "<Figure size 432x288 with 1 Axes>"
            ]
          },
          "metadata": {
            "tags": [],
            "needs_background": "light"
          }
        }
      ]
    },
    {
      "cell_type": "code",
      "metadata": {
        "id": "d6ea9f31"
      },
      "source": [
        ""
      ],
      "id": "d6ea9f31",
      "execution_count": null,
      "outputs": []
    },
    {
      "cell_type": "code",
      "metadata": {
        "id": "7be916e8"
      },
      "source": [
        ""
      ],
      "id": "7be916e8",
      "execution_count": null,
      "outputs": []
    },
    {
      "cell_type": "code",
      "metadata": {
        "id": "a14776b7"
      },
      "source": [
        ""
      ],
      "id": "a14776b7",
      "execution_count": null,
      "outputs": []
    }
  ]
}